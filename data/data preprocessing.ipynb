{
 "cells": [
  {
   "cell_type": "markdown",
   "id": "cc615094-e989-4031-a483-9e7707353e03",
   "metadata": {},
   "source": [
    "# Body Composition Tracker Dataset ETL"
   ]
  },
  {
   "cell_type": "markdown",
   "id": "398cfedc-b100-4535-a82f-bf2583951e91",
   "metadata": {
    "jp-MarkdownHeadingCollapsed": true
   },
   "source": [
    "## To do:\n",
    "- load csv to jupyter notebook\n",
    "- preprocess data\n",
    "- load data to database\n",
    "- powerbi visualization via database\n",
    "- upload notebook and powerbi dashboard"
   ]
  },
  {
   "cell_type": "markdown",
   "id": "12e4a1d8-22a0-4b68-a47a-269e5648cf31",
   "metadata": {
    "jp-MarkdownHeadingCollapsed": true
   },
   "source": [
    "## EXTRACTION: CALLING LIBRARIES AND DATA"
   ]
  },
  {
   "cell_type": "code",
   "execution_count": 1,
   "id": "9603448c-b23b-490e-bfde-ad06552889db",
   "metadata": {},
   "outputs": [],
   "source": [
    "import pandas as pd\n",
    "import numpy as np\n",
    "from dateutil import parser\n",
    "import mysql.connector"
   ]
  },
  {
   "cell_type": "code",
   "execution_count": 2,
   "id": "e8fda477-8c09-466d-9b09-0f71040cdfc1",
   "metadata": {},
   "outputs": [],
   "source": [
    "df = pd.read_csv(r\"body composition tracker.csv\")"
   ]
  },
  {
   "cell_type": "markdown",
   "id": "8cc947c7-30ba-402c-ad60-a33e33e8029c",
   "metadata": {},
   "source": [
    "### df metadata"
   ]
  },
  {
   "cell_type": "code",
   "execution_count": 3,
   "id": "9db6c381-2a08-492a-9345-faeb2e06d437",
   "metadata": {},
   "outputs": [
    {
     "data": {
      "text/plain": [
       "entry_id            int64\n",
       "date               object\n",
       "bmi               float64\n",
       "fat_percentage    float64\n",
       "lean_mass         float64\n",
       "WHR               float64\n",
       "height_cm           int64\n",
       "weight_kg         float64\n",
       "neck_cm           float64\n",
       "waist_cm          float64\n",
       "hips_cm           float64\n",
       "dtype: object"
      ]
     },
     "execution_count": 3,
     "metadata": {},
     "output_type": "execute_result"
    }
   ],
   "source": [
    "df.dtypes"
   ]
  },
  {
   "cell_type": "code",
   "execution_count": 4,
   "id": "c7717d69-4824-4a05-971f-020ca7f61bee",
   "metadata": {},
   "outputs": [
    {
     "data": {
      "text/plain": [
       "entry_id          0\n",
       "date              0\n",
       "bmi               0\n",
       "fat_percentage    0\n",
       "lean_mass         0\n",
       "WHR               0\n",
       "height_cm         0\n",
       "weight_kg         0\n",
       "neck_cm           0\n",
       "waist_cm          0\n",
       "hips_cm           0\n",
       "dtype: int64"
      ]
     },
     "execution_count": 4,
     "metadata": {},
     "output_type": "execute_result"
    }
   ],
   "source": [
    "df.isna().sum()"
   ]
  },
  {
   "cell_type": "markdown",
   "id": "ffde6b3a-460b-40ff-9772-d1993822cfca",
   "metadata": {
    "jp-MarkdownHeadingCollapsed": true
   },
   "source": [
    "## TRANSFORMATION: CLEANING AND PREPROCESSING\n",
    "- not much cleaning, i cleanly stored data in the first place"
   ]
  },
  {
   "cell_type": "markdown",
   "id": "44246ee4-9bf3-4535-92f8-653199a357c6",
   "metadata": {
    "jp-MarkdownHeadingCollapsed": true
   },
   "source": [
    "### date parsing"
   ]
  },
  {
   "cell_type": "code",
   "execution_count": 5,
   "id": "2f6ec05a-f939-4246-951f-26d5971992fe",
   "metadata": {},
   "outputs": [],
   "source": [
    "# parse df[\"date\"] to datetime and use strftime to reformat\n",
    "df[\"date\"] = df[\"date\"].apply(lambda x: parser.parse(x).strftime(\"%Y-%m-%d\"))"
   ]
  },
  {
   "cell_type": "markdown",
   "id": "89502684-63b0-41d6-abac-b92b5d3b7b88",
   "metadata": {
    "jp-MarkdownHeadingCollapsed": true
   },
   "source": [
    "## LOADING: LOADING DATA INTO DATABASE"
   ]
  },
  {
   "cell_type": "markdown",
   "id": "26d5c699-9181-4cdd-8caa-7a9bbf284ba5",
   "metadata": {
    "jp-MarkdownHeadingCollapsed": true
   },
   "source": [
    "### initialize date connection and cursor"
   ]
  },
  {
   "cell_type": "code",
   "execution_count": 6,
   "id": "2d9899ff-66a3-4efa-ac9d-613a04751af0",
   "metadata": {},
   "outputs": [],
   "source": [
    "db = mysql.connector.connect(\n",
    "    host=\"localhost\",\n",
    "    user=\"root\",\n",
    "    # password=\"\"\n",
    ")\n",
    "cursor = db.cursor()"
   ]
  },
  {
   "cell_type": "code",
   "execution_count": 11,
   "id": "aea99ea6-5883-4e02-aa23-7d50486c6492",
   "metadata": {},
   "outputs": [
    {
     "data": {
      "text/plain": [
       "[('airbnb',),\n",
       " ('bodyfat',),\n",
       " ('fitness_tracker',),\n",
       " ('information_schema',),\n",
       " ('mysql',),\n",
       " ('northwind',),\n",
       " ('performance_schema',),\n",
       " ('sys',),\n",
       " ('w3schools',)]"
      ]
     },
     "execution_count": 11,
     "metadata": {},
     "output_type": "execute_result"
    }
   ],
   "source": [
    "query = \"SHOW DATABASES;\"\n",
    "cursor.execute(query)\n",
    "cursor.fetchall()"
   ]
  },
  {
   "cell_type": "code",
   "execution_count": 13,
   "id": "5996e31a-181c-4b00-968f-98cedaabad3d",
   "metadata": {},
   "outputs": [],
   "source": [
    "query = \"USE fitness_tracker;\"\n",
    "cursor.execute(query)"
   ]
  },
  {
   "cell_type": "code",
   "execution_count": 14,
   "id": "4bc3c9cb-81da-41e3-9aa9-5e09e4fe90c7",
   "metadata": {},
   "outputs": [
    {
     "data": {
      "text/plain": [
       "[('body_metrics',), ('food_entries',), ('food_items',)]"
      ]
     },
     "execution_count": 14,
     "metadata": {},
     "output_type": "execute_result"
    }
   ],
   "source": [
    "query = \"SHOW TABLES FROM fitness_tracker;\"\n",
    "cursor.execute(query)\n",
    "cursor.fetchall()"
   ]
  },
  {
   "cell_type": "code",
   "execution_count": 15,
   "id": "2442126b-c48f-4cf3-b66f-41435d7bfa85",
   "metadata": {},
   "outputs": [
    {
     "data": {
      "text/plain": [
       "[('body_metrics_id', 'int', 'NO', 'PRI', None, 'auto_increment'),\n",
       " ('body_metrics_entry_date', 'date', 'NO', '', None, ''),\n",
       " ('bmi', 'float', 'NO', '', None, ''),\n",
       " ('fat_percentage', 'float', 'NO', '', None, ''),\n",
       " ('lean_mass', 'float', 'NO', '', None, ''),\n",
       " ('WHR', 'float', 'NO', '', None, ''),\n",
       " ('height_cm', 'float', 'NO', '', None, ''),\n",
       " ('weight_kg', 'float', 'NO', '', None, ''),\n",
       " ('neck_cm', 'float', 'NO', '', None, ''),\n",
       " ('waist_cm', 'float', 'NO', '', None, ''),\n",
       " ('hip_cm', 'float', 'NO', '', None, '')]"
      ]
     },
     "execution_count": 15,
     "metadata": {},
     "output_type": "execute_result"
    }
   ],
   "source": [
    "query = \"DESCRIBE body_metrics;\"\n",
    "cursor.execute(query)\n",
    "cursor.fetchall()"
   ]
  },
  {
   "cell_type": "markdown",
   "id": "71aaca92-9bb4-4ab8-9641-d8e4051b38ed",
   "metadata": {
    "jp-MarkdownHeadingCollapsed": true
   },
   "source": [
    "### load df into database"
   ]
  },
  {
   "cell_type": "code",
   "execution_count": 19,
   "id": "18f498a8-ad19-4cf3-ae6b-2a396d17a206",
   "metadata": {},
   "outputs": [
    {
     "data": {
      "text/plain": [
       "[]"
      ]
     },
     "execution_count": 19,
     "metadata": {},
     "output_type": "execute_result"
    }
   ],
   "source": [
    "values = df.values.tolist()\n",
    "query = \"INSERT INTO body_metrics() VALUES(%s, %s, %s, %s, %s, %s, %s, %s, %s, %s, %s);\"\n",
    "cursor.executemany(query, values)\n",
    "cursor.fetchall()"
   ]
  },
  {
   "cell_type": "code",
   "execution_count": 21,
   "id": "22e526c5-d0e0-42dd-8b7d-66b144d96b01",
   "metadata": {},
   "outputs": [],
   "source": [
    "query = \"SELECT * FROM body_metrics;\"\n",
    "cursor.execute(query)\n",
    "database = cursor.fetchall()"
   ]
  },
  {
   "cell_type": "code",
   "execution_count": 24,
   "id": "7ae4e023-201e-4900-b622-69b165bb52a8",
   "metadata": {},
   "outputs": [
    {
     "data": {
      "text/plain": [
       "(1,\n",
       " datetime.date(2023, 7, 16),\n",
       " 20.51,\n",
       " 20.59,\n",
       " 43.2785,\n",
       " 0.97,\n",
       " 163.0,\n",
       " 54.5,\n",
       " 37.0,\n",
       " 86.0,\n",
       " 89.0)"
      ]
     },
     "execution_count": 24,
     "metadata": {},
     "output_type": "execute_result"
    }
   ],
   "source": [
    "database[0]"
   ]
  },
  {
   "cell_type": "code",
   "execution_count": null,
   "id": "287753cf-be31-4353-a0ba-5ccbd2394eb5",
   "metadata": {},
   "outputs": [],
   "source": []
  }
 ],
 "metadata": {
  "kernelspec": {
   "display_name": "Python 3 (ipykernel)",
   "language": "python",
   "name": "python3"
  },
  "language_info": {
   "codemirror_mode": {
    "name": "ipython",
    "version": 3
   },
   "file_extension": ".py",
   "mimetype": "text/x-python",
   "name": "python",
   "nbconvert_exporter": "python",
   "pygments_lexer": "ipython3",
   "version": "3.10.7"
  }
 },
 "nbformat": 4,
 "nbformat_minor": 5
}
